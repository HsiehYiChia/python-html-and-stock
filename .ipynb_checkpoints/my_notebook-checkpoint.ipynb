{
 "cells": [
  {
   "cell_type": "code",
   "execution_count": null,
   "metadata": {
    "collapsed": false,
    "deletable": true,
    "editable": true
   },
   "outputs": [],
   "source": [
    "from yahoo_finance import Share\n",
    "from datetime import date, timedelta\n",
    "import matplotlib.pyplot as plt\n",
    "import pandas as pd\n",
    "import pandas_talib as ta\n",
    "import json\n",
    "\n",
    "df = pd.DataFrame()\n",
    "with open(\"stock/common.txt\", \"r\", encoding=\"utf8\") as f:\n",
    "    for line in f:\n",
    "        symbol = line.split(' ')[0] + \".TW\"\n",
    "        name = line.split(' ')[1]\n",
    "        stock = Share(symbol)\n",
    "        print(name)\n",
    "        try:\n",
    "            print (stock.get_historical('2017-02-01', '2017-02-10'))\n",
    "        except:\n",
    "            pass\n",
    "    \n",
    "    \n",
    "    "
   ]
  },
  {
   "cell_type": "markdown",
   "metadata": {},
   "source": [
    "# Numerical Analysis\n",
    "markdown 教學 http://markdown.tw/ <br>\n",
    "政大數值分析 http://moocs.nccu.edu.tw/course/14/intro"
   ]
  },
  {
   "cell_type": "code",
   "execution_count": 4,
   "metadata": {
    "collapsed": true
   },
   "outputs": [],
   "source": [
    "import numpy as np\n",
    "from math import exp, sin\n",
    "\n",
    "def func(x):\n",
    "    return exp(x) - x**2 + 10 * x - 5\n",
    "\n"
   ]
  }
 ],
 "metadata": {
  "kernelspec": {
   "display_name": "Python 3",
   "language": "python",
   "name": "python3"
  },
  "language_info": {
   "codemirror_mode": {
    "name": "ipython",
    "version": 3
   },
   "file_extension": ".py",
   "mimetype": "text/x-python",
   "name": "python",
   "nbconvert_exporter": "python",
   "pygments_lexer": "ipython3",
   "version": "3.6.0"
  }
 },
 "nbformat": 4,
 "nbformat_minor": 2
}
