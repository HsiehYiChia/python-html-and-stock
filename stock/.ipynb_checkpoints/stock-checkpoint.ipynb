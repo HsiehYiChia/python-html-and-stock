{
 "cells": [
  {
   "cell_type": "code",
   "execution_count": null,
   "metadata": {
    "collapsed": false
   },
   "outputs": [],
   "source": [
    "from yahoo_finance import Share\n",
    "from datetime import date, timedelta\n",
    "import matplotlib.pyplot as plt\n",
    "import pandas as pd\n",
    "import pandas_talib as ta\n",
    "import json\n",
    "\n",
    "df = pd.DataFrame()\n",
    "with open(\"common.txt\", \"r\", encoding=\"utf8\") as f:\n",
    "    for line in f:\n",
    "        symbol = line.split(' ')[0] + \".TW\"\n",
    "        name = line.split(' ')[1]\n",
    "        stock = Share(symbol)\n",
    "        print(name)\n",
    "        print (stock.get_historical('2014-04-25', '2017-02-10'))\n",
    "    \n",
    "    \n",
    "    "
   ]
  }
 ],
 "metadata": {
  "kernelspec": {
   "display_name": "Python 3",
   "language": "python",
   "name": "python3"
  },
  "language_info": {
   "codemirror_mode": {
    "name": "ipython",
    "version": 3
   },
   "file_extension": ".py",
   "mimetype": "text/x-python",
   "name": "python",
   "nbconvert_exporter": "python",
   "pygments_lexer": "ipython3",
   "version": "3.5.2"
  }
 },
 "nbformat": 4,
 "nbformat_minor": 2
}
