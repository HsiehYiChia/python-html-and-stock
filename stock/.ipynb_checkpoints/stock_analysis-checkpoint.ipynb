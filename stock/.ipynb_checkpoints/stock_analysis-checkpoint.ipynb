{
 "cells": [
  {
   "cell_type": "code",
   "execution_count": null,
   "metadata": {
    "collapsed": true
   },
   "outputs": [],
   "source": [
    "from yahoo_finance import Share\n",
    "from datetime import date, timedelta\n",
    "import matplotlib.pyplot as plt\n",
    "import pandas as pd\n",
    "import pandas_talib as ta\n",
    "import json\n",
    "\n",
    "df = pd.DataFrame()\n",
    "with open(\"stock/common.txt\", \"r\", encoding=\"utf8\") as f:\n",
    "    for line in f:\n",
    "        symbol = line.split(' ')[0] + \".TW\"\n",
    "        name = line.split(' ')[1]\n",
    "        stock = Share(symbol)\n",
    "        print(name)\n",
    "        try:\n",
    "            print (stock.get_historical('2017-02-01', '2017-02-10'))\n",
    "        except:\n",
    "            pass"
   ]
  }
 ],
 "metadata": {
  "kernelspec": {
   "display_name": "Python 3",
   "language": "python",
   "name": "python3"
  },
  "language_info": {
   "codemirror_mode": {
    "name": "ipython",
    "version": 3
   },
   "file_extension": ".py",
   "mimetype": "text/x-python",
   "name": "python",
   "nbconvert_exporter": "python",
   "pygments_lexer": "ipython3",
   "version": "3.6.0"
  }
 },
 "nbformat": 4,
 "nbformat_minor": 2
}
